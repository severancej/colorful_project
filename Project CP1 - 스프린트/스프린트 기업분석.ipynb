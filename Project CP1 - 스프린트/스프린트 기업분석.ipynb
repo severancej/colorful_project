{
 "cells": [
  {
   "cell_type": "markdown",
   "metadata": {},
   "source": [
    "---\n",
    "# 😎스프린트 기업 분석\n",
    "---"
   ]
  },
  {
   "cell_type": "markdown",
   "metadata": {},
   "source": []
  }
 ],
 "metadata": {
  "kernelspec": {
   "display_name": "Python 3.8.13 ('CP1')",
   "language": "python",
   "name": "python3"
  },
  "language_info": {
   "name": "python",
   "version": "3.8.13"
  },
  "orig_nbformat": 4,
  "vscode": {
   "interpreter": {
    "hash": "78f8200f25c7741a6c240d15c842e969b00406c965f90be7b0b3db7246fb4725"
   }
  }
 },
 "nbformat": 4,
 "nbformat_minor": 2
}
