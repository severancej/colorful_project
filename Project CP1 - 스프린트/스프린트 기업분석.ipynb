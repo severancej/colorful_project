{
  "cells": [
    {
      "cell_type": "markdown",
      "metadata": {
        "id": "EdfpSSt6vZ-B"
      },
      "source": [
        "---\n",
        "# 😎스프린트 기업 분석\n",
        "---"
      ]
    },
    {
      "cell_type": "markdown",
      "source": [
        "### - 현재(2022.11.03일 기준) 스프린트는 식단기록방법을 유료와 무료로 나누어서 사용자에게 제공중이다.\n",
        "\n",
        "### 스프린트 기업은 처음 어플을 시작할 때는 모든 사용자가 올린 식단기록을 보고, 매칭된 매니저가 일일이 식단을 체크하여 칼로리 계산이나 영양성분등 사용자 대신 식단기록을 자세히 기록해 주는 인간지능이라는 서비스를 제공하였으나, 서비스이용자가 폭증으로 인한 빠른 피드백을 하지 못하는 물리적 한계에 따라 더 정확하고  "
      ],
      "metadata": {
        "id": "KfnjzMAP_vUR"
      }
    },
    {
      "cell_type": "markdown",
      "metadata": {
        "id": "sWxgyfPIvZ-F"
      },
      "source": [
        "# 🤔어플사용 시 내가 느낀 불편사항\n",
        "\n",
        "1. 무료맴버쉽을 사용할 때, 사진을 찍어 올리는 것 만으로는 칼로리 계산이 안된다. <br><br>\n",
        "\n",
        "2.  식단을 글로 작성만 하면 반영되는게 아니라\n",
        " 아래 검색어로 뜨는 제품이름과 용량이 맞는 단어를 선택해야 되고,<br> 검색어가 안뜨면 음식은 따로 음식단어와 칼로리를 사용자가 생성하거나 적용안 할 수 있다.<br>➡️검색어 단어에 프렌차이즈 음료인데도 정보가 많이 없다.\n",
        "\n"
      ]
    }
  ],
  "metadata": {
    "kernelspec": {
      "display_name": "Python 3.8.13 ('CP1')",
      "language": "python",
      "name": "python3"
    },
    "language_info": {
      "name": "python",
      "version": "3.8.13"
    },
    "orig_nbformat": 4,
    "vscode": {
      "interpreter": {
        "hash": "78f8200f25c7741a6c240d15c842e969b00406c965f90be7b0b3db7246fb4725"
      }
    },
    "colab": {
      "provenance": []
    }
  },
  "nbformat": 4,
  "nbformat_minor": 0
}